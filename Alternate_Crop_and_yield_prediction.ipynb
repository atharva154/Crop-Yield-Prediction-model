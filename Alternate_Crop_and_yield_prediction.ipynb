{
  "nbformat": 4,
  "nbformat_minor": 0,
  "metadata": {
    "colab": {
      "provenance": []
    },
    "kernelspec": {
      "name": "python3",
      "display_name": "Python 3"
    },
    "language_info": {
      "name": "python"
    }
  },
  "cells": [
    {
      "cell_type": "code",
      "source": [
        "import pandas as pd\n",
        "from sklearn.model_selection import train_test_split\n",
        "from sklearn.ensemble import RandomForestClassifier\n",
        "from sklearn.preprocessing import OneHotEncoder\n",
        "\n",
        "# Load the dataset\n",
        "data = pd.read_csv('synthetic_crop_data.csv')\n",
        "\n",
        "# Prepare the data for training\n",
        "X = data[['square_fit_area', 'weather_conditions', 'temperature', 'city', 'soil_color', 'humidity', 'rainfall']]\n",
        "y_fertilizer = data['suitable_fertilizer']\n",
        "\n",
        "# One-hot encode categorical features\n",
        "encoder = OneHotEncoder(sparse_output=False, handle_unknown='ignore')\n",
        "X_encoded = encoder.fit_transform(X)\n",
        "\n",
        "# Split the data for fertilizer prediction\n",
        "X_train, X_test, y_fertilizer_train, y_fertilizer_test = train_test_split(X_encoded, y_fertilizer, test_size=0.2, random_state=42)\n",
        "\n",
        "# Train the model for fertilizer suggestion\n",
        "rf_fertilizer_model = RandomForestClassifier(n_estimators=100, random_state=42)\n",
        "rf_fertilizer_model.fit(X_train, y_fertilizer_train)\n",
        "\n",
        "# Function to suggest fertilizer based on input data\n",
        "def suggest_fertilizer(square_fit_area, weather_condition, temperature, city, soil_color, humidity, rainfall):\n",
        "    # Prepare input data\n",
        "    input_data = pd.DataFrame({\n",
        "        'square_fit_area': [square_fit_area],\n",
        "        'weather_conditions': [weather_condition],\n",
        "        'temperature': [temperature],\n",
        "        'city': [city],\n",
        "        'soil_color': [soil_color],\n",
        "        'humidity': [humidity],\n",
        "        'rainfall': [rainfall]\n",
        "    })\n",
        "\n",
        "    # One-hot encode the input data\n",
        "    input_encoded = encoder.transform(input_data)\n",
        "\n",
        "    # Suggest fertilizer\n",
        "    suitable_fertilizer = rf_fertilizer_model.predict(input_encoded)[0]\n",
        "\n",
        "    return suitable_fertilizer\n",
        "\n",
        "# Get user input for fertilizer suggestion\n",
        "square_fit_area = float(input(\"Square Fit Area (in acres): \"))\n",
        "weather_condition = input(\"Weather Condition (Sunny/Rainy/Cloudy): \")\n",
        "temperature = float(input(\"Temperature (in Celsius): \"))\n",
        "city = input(\"City (Mumbai/Pune/Nagpur/Nashik/Aurangabad): \")\n",
        "soil_color = input(\"Soil Color (Brown/Black/Red/Yellow): \")\n",
        "humidity = float(input(\"Humidity (in percentage): \"))\n",
        "rainfall = float(input(\"Rainfall (in mm): \"))\n",
        "\n",
        "# Get fertilizer suggestion\n",
        "fertilizer_suggestion = suggest_fertilizer(\n",
        "    square_fit_area, weather_condition, temperature, city, soil_color, humidity, rainfall\n",
        ")\n",
        "\n",
        "# Print the suggested fertilizer\n",
        "print(f\"Suggested Fertilizer: {fertilizer_suggestion}\")"
      ],
      "metadata": {
        "colab": {
          "base_uri": "https://localhost:8080/"
        },
        "id": "5QKAp1WPbdv7",
        "outputId": "83c9b336-9671-444f-b5e2-4a5ba8ac1fa1"
      },
      "execution_count": null,
      "outputs": [
        {
          "output_type": "stream",
          "name": "stdout",
          "text": [
            "Square Fit Area (in acres): 15\n",
            "Weather Condition (Sunny/Rainy/Cloudy): Rainy\n",
            "Temperature (in Celsius): 30\n",
            "City (Mumbai/Pune/Nagpur/Nashik/Aurangabad): Nashik\n",
            "Soil Color (Brown/Black/Red/Yellow): Red\n",
            "Humidity (in percentage): 80\n",
            "Rainfall (in mm): 15\n",
            "Suggested Fertilizer: Potash\n"
          ]
        }
      ]
    },
    {
      "cell_type": "code",
      "source": [
        "import pandas as pd\n",
        "from sklearn.model_selection import train_test_split\n",
        "from sklearn.tree import DecisionTreeClassifier\n",
        "from sklearn.linear_model import LinearRegression\n",
        "from sklearn.ensemble import RandomForestClassifier\n",
        "from sklearn.preprocessing import LabelEncoder, OneHotEncoder\n",
        "import numpy as np\n",
        "\n",
        "# Load the datasets\n",
        "df_alternative_crop = pd.read_csv('maharashtra_alternative_crops_data.csv')\n",
        "df_crop_fertilizer = pd.read_csv('synthetic_crop_data.csv')\n",
        "\n",
        "# ------------ Model 1: Alternative Crop Suggestion ------------ #\n",
        "# Preprocessing for alternative crop suggestion\n",
        "label_encoders = {}\n",
        "for column in ['current_crop', 'soil_type', 'location', 'alternative_crop']:\n",
        "    le = LabelEncoder()\n",
        "    df_alternative_crop[column] = le.fit_transform(df_alternative_crop[column])\n",
        "    label_encoders[column] = le\n",
        "\n",
        "X_alt = df_alternative_crop.drop('alternative_crop', axis=1)\n",
        "y_alt = df_alternative_crop['alternative_crop']\n",
        "\n",
        "# Split and train the Decision Tree model for alternative crop\n",
        "X_train_alt, X_test_alt, y_train_alt, y_test_alt = train_test_split(X_alt, y_alt, test_size=0.2, random_state=42)\n",
        "alt_crop_model = DecisionTreeClassifier()\n",
        "alt_crop_model.fit(X_train_alt, y_train_alt)\n",
        "\n",
        "# Function to suggest alternative crop based on input\n",
        "def suggest_alternative_crop(current_crop, rainfall, temperature, humidity, soil_type, location):\n",
        "    input_data = np.array([[\n",
        "        label_encoders['current_crop'].transform([current_crop])[0],\n",
        "        rainfall,\n",
        "        temperature,\n",
        "        humidity,\n",
        "        label_encoders['soil_type'].transform([soil_type])[0],\n",
        "        label_encoders['location'].transform([location])[0]\n",
        "    ]])\n",
        "    predicted = alt_crop_model.predict(input_data)\n",
        "    alternative_crop = label_encoders['alternative_crop'].inverse_transform(predicted)\n",
        "    return alternative_crop[0]\n",
        "\n",
        " # Alternative crop suggestion\n",
        "    alternative_crop = suggest_alternative_crop(current_crop, rainfall, temperature, humidity, soil_type, location)\n",
        "\n",
        "    return alternative_crop\n",
        "\n",
        "\n",
        "# Collect user inputs\n",
        "if __name__ == \"__main__\":\n",
        "    # Get inputs from the user\n",
        "    current_crop = input(\"Enter the current crop (e.g., Wheat, Rice): \")\n",
        "    rainfall = float(input(\"Enter the rainfall (in mm): \"))\n",
        "    temperature = float(input(\"Enter the temperature (in Celsius): \"))\n",
        "    humidity = float(input(\"Enter the humidity (in percentage): \"))\n",
        "    soil_type = input(\"Enter the soil type (e.g., Black Soil, Red Soil, Sandy Soil): \")\n",
        "    location = input(\"Enter the location: \")\n",
        "    square_fit_area = float(input(\"Enter the square fit area (in acres): \"))\n",
        "    weather_condition = input(\"Enter the weather condition (e.g., Sunny, Cloudy): \")\n",
        "    city = input(\"Enter the city: \")\n",
        "    soil_color = input(\"Enter the soil color (e.g., Black, Brown, Red): \")\n",
        "\n",
        "    # Display the results\n",
        "    print(f\"Suggested Alternative Crop: {alt_crop}\")\n",
        "\n"
      ],
      "metadata": {
        "colab": {
          "base_uri": "https://localhost:8080/"
        },
        "id": "5KKy-p5mgT6y",
        "outputId": "cfc0d213-3734-4a92-a7dc-8a79cc6bc392"
      },
      "execution_count": null,
      "outputs": [
        {
          "name": "stdout",
          "output_type": "stream",
          "text": [
            "Enter the current crop (e.g., Wheat, Rice): Rice\n"
          ]
        }
      ]
    }
  ]
}